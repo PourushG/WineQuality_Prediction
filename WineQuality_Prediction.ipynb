{
  "nbformat": 4,
  "nbformat_minor": 0,
  "metadata": {
    "colab": {
      "provenance": []
    },
    "kernelspec": {
      "name": "python3",
      "display_name": "Python 3"
    },
    "language_info": {
      "name": "python"
    }
  },
  "cells": [
    {
      "cell_type": "code",
      "execution_count": 53,
      "metadata": {
        "colab": {
          "base_uri": "https://localhost:8080/"
        },
        "id": "Gc8uiGblJ0Vq",
        "outputId": "d315e0d1-783a-4eb2-e5cf-d3204ae5d12b"
      },
      "outputs": [
        {
          "output_type": "stream",
          "name": "stdout",
          "text": [
            "Drive already mounted at /content/drive; to attempt to forcibly remount, call drive.mount(\"/content/drive\", force_remount=True).\n"
          ]
        }
      ],
      "source": [
        "from google.colab import drive\n",
        "drive.mount(\"/content/drive\")"
      ]
    },
    {
      "cell_type": "code",
      "source": [
        "import pandas as pd\n",
        "import numpy as np\n",
        "import matplotlib.pyplot as plt\n",
        "import seaborn as sns\n",
        "from ipywidgets.widgets.trait_types import date_from_json\n",
        "from sklearn.preprocessing import LabelEncoder, MinMaxScaler, StandardScaler\n",
        "from sklearn.decomposition import PCA\n",
        "from sklearn.model_selection import train_test_split\n",
        "from sklearn.linear_model import LinearRegression\n",
        "from sklearn.metrics import mean_squared_error, r2_score\n",
        "from sklearn.ensemble import RandomForestRegressor\n",
        "from sklearn.tree import DecisionTreeRegressor\n"
      ],
      "metadata": {
        "id": "2LIPbtmmKZrl"
      },
      "execution_count": 54,
      "outputs": []
    },
    {
      "cell_type": "code",
      "source": [
        "red_wine=pd.read_csv(\"/content/drive/MyDrive/winequality/winequality-red.csv\")\n",
        "white_wine=pd.read_csv(\"/content/drive/MyDrive/winequality/winequality-white.csv\")\n",
        "red_wine['wine_type']='red'\n",
        "white_wine['wine_type']='white'\n",
        "df=pd.concat([red_wine, white_wine],axis=0)\n",
        "\n",
        "df.head()"
      ],
      "metadata": {
        "id": "w627TUZtKduJ"
      },
      "execution_count": null,
      "outputs": []
    },
    {
      "cell_type": "code",
      "source": [
        "df.isnull().sum()"
      ],
      "metadata": {
        "id": "8V0PNaTWP8g2"
      },
      "execution_count": null,
      "outputs": []
    },
    {
      "cell_type": "code",
      "source": [
        "df['quality'].unique()"
      ],
      "metadata": {
        "id": "-TVSOra7eBeM"
      },
      "execution_count": null,
      "outputs": []
    },
    {
      "cell_type": "code",
      "source": [
        "df.info()"
      ],
      "metadata": {
        "id": "WnU7Pys_bFGd"
      },
      "execution_count": null,
      "outputs": []
    },
    {
      "cell_type": "code",
      "source": [
        "def find_zscore(dataframe, threshold=3):\n",
        "    num_cols = dataframe.select_dtypes(exclude=['int64', 'object']).columns\n",
        "    zscores = np.abs((dataframe[num_cols] - dataframe[num_cols].mean()) / dataframe[num_cols].std())\n",
        "    outliers = (zscores > threshold).any(axis=1)\n",
        "    return outliers\n",
        "\n",
        "\n",
        "def find_IQR(features, threshold=1.5):\n",
        "  Q1 = df[features].quantile(0.25)\n",
        "  Q3 = df[features].quantile(0.75)\n",
        "  IQR = Q3-Q1\n",
        "  low_bound = Q1-threshold*IQR\n",
        "  high_bound = Q3+threshold*IQR\n",
        "  outliers = (df[features]>high_bound) | (df[features]< low_bound)\n",
        "  return outliers"
      ],
      "metadata": {
        "id": "8-vlJC8Vb0-8"
      },
      "execution_count": 168,
      "outputs": []
    },
    {
      "cell_type": "code",
      "source": [
        "outliers_zscore = find_zscore(df)\n",
        "print(\"Rows with outliers:\")\n",
        "print(df[outliers_zscore])"
      ],
      "metadata": {
        "id": "h4vmXgTvTzDx"
      },
      "execution_count": null,
      "outputs": []
    },
    {
      "cell_type": "code",
      "source": [
        "outliers_IQR = pd.DataFrame()\n",
        "\n",
        "for column in df.columns:\n",
        "    if df[column].dtype == 'float64':\n",
        "        outliers = find_IQR(column)\n",
        "        outliers_IQR = pd.concat([outliers_IQR, outliers], axis=1)\n",
        "\n",
        "print(\"Rows with outliers:\")\n",
        "print(outliers_IQR)"
      ],
      "metadata": {
        "id": "2ZBjVCmLr9Kq"
      },
      "execution_count": null,
      "outputs": []
    },
    {
      "cell_type": "code",
      "source": [
        "for column in df.columns:\n",
        "    if df[column].dtype == 'float64':\n",
        "        plt.figure(figsize=(8, 5))\n",
        "        plt.boxplot([df[column][outliers_zscore], df[column][~outliers_zscore]], labels=['Outliers', 'Non-Outliers'])\n",
        "        plt.title(f'Box Plot of {column}')\n",
        "        plt.ylabel(column)\n",
        "        plt.show()"
      ],
      "metadata": {
        "id": "GiPOGFpdrqfB"
      },
      "execution_count": null,
      "outputs": []
    },
    {
      "cell_type": "code",
      "source": [
        "df_cleaned = df[~outliers_zscore]\n",
        "df_temp=df_cleaned.copy()\n",
        "df_cleaned.info()\n",
        "df_cleaned.head()"
      ],
      "metadata": {
        "id": "xmCPjRm3jQqZ"
      },
      "execution_count": null,
      "outputs": []
    },
    {
      "cell_type": "code",
      "source": [
        "df_cleaned.isnull().sum()"
      ],
      "metadata": {
        "id": "GKSIyU7WEXD_"
      },
      "execution_count": null,
      "outputs": []
    },
    {
      "cell_type": "code",
      "source": [
        "\n",
        "\n",
        "correlation_matrix = df_cleaned.corr()\n",
        "\n",
        "plt.figure(figsize=(10,8))\n",
        "sns.heatmap(correlation_matrix, annot=True, cmap='coolwarm', linewidths=0.5)\n",
        "plt.title(\"Correlation Matrix\")\n",
        "plt.show()"
      ],
      "metadata": {
        "id": "giD2RqGStZ1t"
      },
      "execution_count": null,
      "outputs": []
    },
    {
      "cell_type": "code",
      "source": [
        "sns.pairplot(df_cleaned, diag_kind='kde')\n",
        "plt.show()"
      ],
      "metadata": {
        "id": "cuSdWQOYuGHC"
      },
      "execution_count": null,
      "outputs": []
    },
    {
      "cell_type": "code",
      "source": [
        "features=[col for col in df_cleaned if col !='quality']\n",
        "\n",
        "for feat in features:\n",
        "  plt.figure(figsize=(15,8))\n",
        "  df_cleaned.groupby(feat)['quality'].mean().plot(kind='bar', color='green')\n",
        "  plt.title(f'variation of {feat} with the quality')\n",
        "  plt.ylabel(feat)\n",
        "  plt.xlabel('Quality scale')\n",
        "  plt.xticks(rotation=90)\n",
        "  plt.show()"
      ],
      "metadata": {
        "id": "d0c2UbwZwcMT"
      },
      "execution_count": null,
      "outputs": []
    },
    {
      "cell_type": "code",
      "source": [
        "target_variable = 'quality'\n",
        "for feature in df.columns:\n",
        "    if feature != target_variable and df[feature].dtype == 'float64':\n",
        "        plt.figure(figsize=(12, 5))\n",
        "        plt.scatter(df[feature], df[target_variable], marker='o', alpha=0.5)\n",
        "        plt.title(f'Line Plot of {feature} vs. {target_variable}')\n",
        "        plt.xlabel(feature)\n",
        "        plt.ylabel(target_variable)\n",
        "        plt.grid(True)\n",
        "        plt.show()"
      ],
      "metadata": {
        "id": "EmTaiMlXx8NL"
      },
      "execution_count": null,
      "outputs": []
    },
    {
      "cell_type": "code",
      "source": [
        "df_cleaned.describe()"
      ],
      "metadata": {
        "id": "CAjm0xK2PCcF"
      },
      "execution_count": null,
      "outputs": []
    },
    {
      "cell_type": "code",
      "source": [
        "label_encoder = LabelEncoder()\n",
        "df_cleaned['wine_type'] = label_encoder.fit_transform(df_cleaned['wine_type'])\n",
        "print(\"Unique labels:\", label_encoder.classes_)\n"
      ],
      "metadata": {
        "id": "SFHAt9O_Mx7B"
      },
      "execution_count": null,
      "outputs": []
    },
    {
      "cell_type": "code",
      "source": [
        "plt.hist(df_cleaned, bins=10)\n",
        "plt.title('Histogram of Data')\n",
        "plt.xlabel('Values')\n",
        "plt.ylabel('Frequency')\n",
        "plt.show()"
      ],
      "metadata": {
        "id": "26PU5g0B0bfT"
      },
      "execution_count": null,
      "outputs": []
    },
    {
      "cell_type": "code",
      "source": [
        "epsilon = 1e-10\n",
        "transformed_data = np.log(df_cleaned + epsilon)\n",
        "transformed_data = np.sqrt(df_cleaned)"
      ],
      "metadata": {
        "id": "n45abU4t0mRn"
      },
      "execution_count": 194,
      "outputs": []
    },
    {
      "cell_type": "code",
      "source": [
        "plt.hist(transformed_data, bins=10)\n",
        "plt.title('Histogram of Data')\n",
        "plt.xlabel('Values')\n",
        "plt.ylabel('Frequency')\n",
        "plt.show()"
      ],
      "metadata": {
        "id": "TzrIw8N0WVUr"
      },
      "execution_count": null,
      "outputs": []
    },
    {
      "cell_type": "code",
      "source": [
        "df_cleaned.isnull().sum()"
      ],
      "metadata": {
        "id": "-4k7vdJNWlOQ"
      },
      "execution_count": null,
      "outputs": []
    },
    {
      "cell_type": "code",
      "source": [
        "column_name = 'quality'\n",
        "\n",
        "non_numeric_values = df_cleaned[~df_cleaned[column_name].apply(lambda x: isinstance(x, (int, float)))]\n",
        "count_non_numeric = non_numeric_values.shape[0]\n",
        "\n",
        "print(f\"Non-numeric values in '{column_name}':\")\n",
        "print(non_numeric_values)\n",
        "print(f\"Count of non-numeric values in '{column_name}':\", count_non_numeric)\n"
      ],
      "metadata": {
        "id": "XFBH_0q8GWHL"
      },
      "execution_count": null,
      "outputs": []
    },
    {
      "cell_type": "code",
      "source": [
        "scaler = MinMaxScaler()\n",
        "\n",
        "features_to_scale = df_cleaned.drop(columns=['quality']).select_dtypes(include=['float64']).columns\n",
        "\n",
        "df_scaled = df_cleaned.copy()\n",
        "df_scaled[features_to_scale] = scaler.fit_transform(df_cleaned[features_to_scale])\n",
        "\n"
      ],
      "metadata": {
        "id": "JNBG94e-L6s7"
      },
      "execution_count": 199,
      "outputs": []
    },
    {
      "cell_type": "code",
      "source": [
        "df_scaled.info()"
      ],
      "metadata": {
        "id": "vJEI7aiRFEN6"
      },
      "execution_count": null,
      "outputs": []
    },
    {
      "cell_type": "code",
      "source": [
        "df = df_scaled\n",
        "df = df.drop('wine_type', axis=1)\n"
      ],
      "metadata": {
        "id": "nqm5ouENRhix"
      },
      "execution_count": 256,
      "outputs": []
    },
    {
      "cell_type": "code",
      "source": [
        "X=df.iloc[:,:-1]\n",
        "Y=df.iloc[:,-1]\n",
        "print(X.shape)\n",
        "Y.shape\n",
        "X.columns"
      ],
      "metadata": {
        "id": "6irwHv9QMqBE"
      },
      "execution_count": null,
      "outputs": []
    },
    {
      "cell_type": "code",
      "source": [
        "Y.isnull().sum()"
      ],
      "metadata": {
        "colab": {
          "base_uri": "https://localhost:8080/"
        },
        "id": "gtpypx3BD20F",
        "outputId": "ac299128-2d94-4e59-8f78-638fc6a04bf8"
      },
      "execution_count": 258,
      "outputs": [
        {
          "output_type": "execute_result",
          "data": {
            "text/plain": [
              "0"
            ]
          },
          "metadata": {},
          "execution_count": 258
        }
      ]
    },
    {
      "cell_type": "code",
      "source": [
        "scaler = StandardScaler()\n",
        "X_scaled = scaler.fit_transform(X)\n",
        "pca = PCA(n_components=10)\n",
        "\n",
        "X_reduced = pca.fit_transform(X_scaled)\n",
        "X_reduced.shape"
      ],
      "metadata": {
        "id": "8VhFl-diOvDM"
      },
      "execution_count": null,
      "outputs": []
    },
    {
      "cell_type": "code",
      "source": [
        "X_reduced.shape"
      ],
      "metadata": {
        "id": "xF1hIrfROPwW"
      },
      "execution_count": null,
      "outputs": []
    },
    {
      "cell_type": "code",
      "source": [
        "X_reduced=pd.DataFrame(X_reduced)\n",
        "X_reduced.head()\n",
        "X=X_reduced"
      ],
      "metadata": {
        "id": "CYd5LAhG8QRe"
      },
      "execution_count": 246,
      "outputs": []
    },
    {
      "cell_type": "code",
      "source": [
        "X_train, X_test, Y_train, Y_test = train_test_split(X,Y, test_size=0.3, random_state=50)"
      ],
      "metadata": {
        "id": "E1ocTkB0C4zZ"
      },
      "execution_count": 259,
      "outputs": []
    },
    {
      "cell_type": "code",
      "source": [
        "Y_train.isnull().sum()"
      ],
      "metadata": {
        "id": "MZTxN7lrDkcs"
      },
      "execution_count": null,
      "outputs": []
    },
    {
      "cell_type": "code",
      "source": [
        "model =  LinearRegression()\n",
        "model.fit(X_train, Y_train)"
      ],
      "metadata": {
        "id": "4EBGo40ADPDN"
      },
      "execution_count": null,
      "outputs": []
    },
    {
      "cell_type": "code",
      "source": [
        "y_pred = model.predict(X_test)"
      ],
      "metadata": {
        "id": "wZO_M2hhDXJF"
      },
      "execution_count": 261,
      "outputs": []
    },
    {
      "cell_type": "code",
      "source": [
        "mse = mean_squared_error(Y_test, y_pred)\n",
        "r2 = r2_score(Y_test, y_pred)\n",
        "\n",
        "print(\"Mean sqaured error: \",mse)\n",
        "print(\"r2 score: \",r2)"
      ],
      "metadata": {
        "id": "cP2QnJY4HP29"
      },
      "execution_count": null,
      "outputs": []
    },
    {
      "cell_type": "code",
      "source": [
        "plt.scatter(Y_test, y_pred)\n",
        "plt.xlabel(\"Actual Values\")\n",
        "plt.ylabel(\"Predicted Values\")\n",
        "plt.title(\"Actual vs. Predicted Values\")\n",
        "plt.show()"
      ],
      "metadata": {
        "id": "2SlWwDCrHtfh"
      },
      "execution_count": null,
      "outputs": []
    },
    {
      "cell_type": "code",
      "source": [
        "model = RandomForestRegressor(n_estimators=100, random_state=42)\n",
        "model.fit(X_train, Y_train)"
      ],
      "metadata": {
        "id": "xocNdZgwH2Jx"
      },
      "execution_count": null,
      "outputs": []
    },
    {
      "cell_type": "code",
      "source": [
        "y_pred = model.predict(X_test)\n",
        "\n",
        "mse = mean_squared_error(Y_test, y_pred)\n",
        "r2 = r2_score(Y_test, y_pred)\n",
        "\n",
        "print(\"Mean Squared Error:\", mse)\n",
        "print(\"R-squared (R2) Score:\", r2)"
      ],
      "metadata": {
        "colab": {
          "base_uri": "https://localhost:8080/"
        },
        "id": "8jecA3XCPOkB",
        "outputId": "561519d2-aa6b-45ed-a59f-d84464fc5a2d"
      },
      "execution_count": 270,
      "outputs": [
        {
          "output_type": "stream",
          "name": "stdout",
          "text": [
            "Mean Squared Error: 0.35489134775374376\n",
            "R-squared (R2) Score: 0.5174259513161064\n"
          ]
        }
      ]
    },
    {
      "cell_type": "code",
      "source": [
        "feature_importance = model.feature_importances_\n",
        "plt.figure(figsize=(10, 6))\n",
        "plt.barh(X.columns, model.feature_importances_)\n",
        "plt.xlabel(\"Feature Importance\")\n",
        "plt.ylabel(\"Features\")\n",
        "plt.title(\"Random Forest Feature Importance\")\n",
        "plt.show()"
      ],
      "metadata": {
        "id": "8Oe5tEaIPUQR"
      },
      "execution_count": null,
      "outputs": []
    },
    {
      "cell_type": "code",
      "source": [
        "model = DecisionTreeRegressor(random_state=42)\n",
        "model.fit(X_train, Y_train)\n",
        "y_pred = model.predict(X_test)\n",
        "\n",
        "mse = mean_squared_error(Y_test, y_pred)\n",
        "r2 = r2_score(Y_test, y_pred)\n",
        "\n",
        "print(\"Mean Squared Error:\", mse)\n",
        "print(\"R-squared (R2) Score:\", r2)\n"
      ],
      "metadata": {
        "id": "6XP0yuCjPXld"
      },
      "execution_count": null,
      "outputs": []
    },
    {
      "cell_type": "code",
      "source": [],
      "metadata": {
        "id": "4gUt6ihoQnre"
      },
      "execution_count": 273,
      "outputs": []
    }
  ]
}